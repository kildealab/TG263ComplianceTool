{
 "cells": [
  {
   "cell_type": "code",
   "execution_count": 62,
   "id": "50d0ba60",
   "metadata": {},
   "outputs": [],
   "source": [
    "import string\n",
    "import re"
   ]
  },
  {
   "cell_type": "code",
   "execution_count": 61,
   "id": "cf2eb618",
   "metadata": {},
   "outputs": [],
   "source": [
    "name = 'PTV_5000'\n",
    "# list_names = ['CTV_6000','CTV_7000','GTV','CTV_5600','PTV_7000-05','PTV!_6000-05',\n",
    "#               'PTV_All','PTV','CTV','PTV_ALL','PTV70+PTV60','PTV60','PTV56','CTV60','CTV70','PTV!_Eval_6000','PTV2n',\n",
    "#               'CTVn_6000','CTVn','opt_CTV56_crop03','PTV^Physician1','GTV_2000^ICG','PTV1','GTVp1','GTVp2','PTVn','PTVsb']\n",
    "list_names = ['CT 60','GTV','CTV_5600','PTV_7000-05','PTV_All','PTV70+PTV60','PTV60','PTV!_Eval_6000','PTV2n',\n",
    "              'CTVn_6000','CTVn','opt_CTV56_crop03','PTV^Physician1','GTV_2000^ICG','PTV1','GTVp1','GTVp2','PTVn','PTVsb']\n",
    "\n",
    "# note, can easily check spaces and legnth\n",
    "\n",
    "# to do: add exmples from the TG 263 paper"
   ]
  },
  {
   "cell_type": "code",
   "execution_count": 73,
   "id": "50fb075a",
   "metadata": {},
   "outputs": [],
   "source": [
    "# note, this does not work for rule 10 of the guidelines \n",
    "# TO DO: split by ^ immediately (after length and space check) and disregard everything afterwards\n",
    "# thought process for suffixes: go through and remove correct parts of name in the correct ordre. \n",
    "#                               if anything is leftover without a ^, then it is wrong\n",
    "\n",
    "# TO DO: \n",
    "# E-PTV_Ev05_xxxx\tE-PTV_Ev05_xxxx\n",
    "# E-PTV_xxxx\tE-PTV_xxxx\n",
    "\n",
    "def check_target_compliance(target_name):\n",
    "    \n",
    "    #first check if there are spaces, then it's automatically not tg 263 compliant\n",
    "    if ' ' in target_name:\n",
    "        print(\" spaces \")\n",
    "        return False\n",
    "    target_prefix = target_name.split(\"_\")[0]\n",
    "    target_suffix = target_name.replace(target_prefix,'')\n",
    "    print(\"****\")\n",
    "\n",
    "    print(\"prefix\", target_prefix)\n",
    "#     print(\"suffix\", target_suffix)\n",
    "\n",
    "    is_correct = True\n",
    "    reasoning = ''\n",
    "  \n",
    "\n",
    "    # CHECKING PREFIX\n",
    "    list_allowed_prefixes = ['PTV!','GTV','CTV','ITV','IGTV','ICTV','PTV'] #rule 1\n",
    "    list_allowed_classifiers = ['n', 'p', 'sb', 'par', 'v', 'vas',''] # rule 2, including none\n",
    "    #note: ordering of the above mattes, PTV! sb before PTV, and '' should be last -- this is for when removing it from prefix\n",
    "    \n",
    "    if not target_prefix.startswith(tuple(list_allowed_prefixes)): # rule 1\n",
    "        print(\"fails rule 1\")\n",
    "        return False\n",
    "    \n",
    "    for p in list_allowed_prefixes: \n",
    "        if target_prefix.startswith(p):\n",
    "            target_prefix = target_prefix.replace(p,'')\n",
    "            break\n",
    "    print(\"After Rule 1:\",target_prefix)\n",
    "\n",
    "    \n",
    "    \n",
    "    \n",
    "    if target_prefix != '':\n",
    "        if target_prefix[0] == \"^\": # rule 9\n",
    "            print(\"its true, all after ^\")\n",
    "            return True\n",
    "        prefix_no_digits = target_prefix.rstrip(string.digits)\n",
    "        print(\"prefixno digits:\",prefix_no_digits)\n",
    "        if not prefix_no_digits in list_allowed_classifiers: #rule 2\n",
    "            print(\"fails rule 2\")\n",
    "        \n",
    "        for c in list_allowed_classifiers:\n",
    "            if target_prefix.startswith(c):\n",
    "                target_prefix = target_prefix.replace(c,'')\n",
    "                break\n",
    "        print(\"After rule 2:\",target_prefix)\n",
    "        \n",
    "        if target_prefix != '' and (len(target_prefix) > 1 or not target_prefix.isdigit()):\n",
    "            # rule #3 --> could be tricky, saying len sb max 1 becuase i doubt the bunbers would go up to 10\n",
    "            #but... there could be a random number there that isn't meant to represnet spatially distinct targets.\n",
    "            print(\"fails rule 3\")\n",
    "            \n",
    "    # TO DO -- check if ends with -xx for prefix eg CTVp2-05\n",
    "    \n",
    "    # CHECKING SUFFIX\n",
    "    \n",
    "    # TO DO: SKIPPING RULES 4 AND 5 FOR NOW\n",
    "    # for rule 5, check thorugh TG again, however will need to do starts with i believe to accoutn for extra dose etc put at end\n",
    "    # then need to remove it and analyse rest of structure as before\n",
    "    # rule #6\n",
    "    \n",
    "    if target_suffix != '':\n",
    "        relative_dose_suffixes = [\"_High\", \"_Mid\",\"_Low\"]\n",
    "        print(\"suffix\", target_suffix)\n",
    "\n",
    "        numerical_dose = False\n",
    "        if target_suffix.startswith(tuple(relative_dose_suffixes)):\n",
    "            #ok it is relavice dose\n",
    "            # TO DO: add 01 02 etc\n",
    "            for r in relative_dose_suffixes:\n",
    "                if target_suffix.startswith(c):\n",
    "                    target_suffix = target_suffix.replace(c,'')\n",
    "                    break\n",
    "\n",
    "            placeholder = 1\n",
    "\n",
    "        elif bool(re.match(r'^_\\d{4}', target_suffix)): #cGy\n",
    "            target_suffix = target_suffix[5:]\n",
    "            placeholder = 2\n",
    "            numerical_dose = True\n",
    "    #     elif : TO DO : Gy\n",
    "\n",
    "\n",
    "        print(\"After rule 6: \", target_suffix)\n",
    "        if numerical_dose: #rule 7, this is optional, only if the # fx are indicated it should be with an x\n",
    "            fraction_pattern = r'^x\\d{1,2}'\n",
    "            if bool(re.match(fraction_pattern, target_suffix)):\n",
    "                fractions = True\n",
    "                target_suffix = re.sub(fraction_pattern, '', target_suffix)\n",
    "\n",
    "            print(\"After rule 7: \", target_suffix)\n",
    "\n",
    "        #rule 8\n",
    "        if bool(re.match(r'^-\\d{2}', target_suffix)):\n",
    "            target_suffix = target_suffix[3:]\n",
    "\n",
    "            print(\"after rule 8:\", target_suffix)\n",
    "\n",
    "        # rule 9\n",
    "        if target_suffix == '' or target_suffix[0] == \"^\":\n",
    "            print(\"ALL GOODDDDDD\")\n",
    "        else:\n",
    "            print(\"FAILED~!\")\n",
    "\n",
    "            "
   ]
  },
  {
   "cell_type": "code",
   "execution_count": 72,
   "id": "80979c1c",
   "metadata": {},
   "outputs": [
    {
     "name": "stdout",
     "output_type": "stream",
     "text": [
      " spaces \n",
      "****\n",
      "prefix GTV\n",
      "After Rule 1: \n",
      "****\n",
      "prefix CTV\n",
      "After Rule 1: \n",
      "suffix _5600\n",
      "After rule 6:  \n",
      "After rule 7:  \n",
      "ALL GOODDDDDD\n",
      "****\n",
      "prefix PTV\n",
      "After Rule 1: \n",
      "suffix _7000-05\n",
      "After rule 6:  -05\n",
      "After rule 7:  -05\n",
      "after rule 8: \n",
      "ALL GOODDDDDD\n",
      "****\n",
      "prefix PTV\n",
      "After Rule 1: \n",
      "suffix _All\n",
      "After rule 6:  _All\n",
      "FAILED~!\n",
      "****\n",
      "prefix PTV70+PTV60\n",
      "After Rule 1: 70+60\n",
      "prefixno digits: 70+\n",
      "fails rule 2\n",
      "After rule 2: 70+60\n",
      "fails rule 3\n",
      "****\n",
      "prefix PTV60\n",
      "After Rule 1: 60\n",
      "prefixno digits: \n",
      "After rule 2: 60\n",
      "fails rule 3\n",
      "****\n",
      "prefix PTV!\n",
      "After Rule 1: \n",
      "suffix _Eval_6000\n",
      "After rule 6:  _Eval_6000\n",
      "FAILED~!\n",
      "****\n",
      "prefix PTV2n\n",
      "After Rule 1: 2n\n",
      "prefixno digits: 2n\n",
      "fails rule 2\n",
      "After rule 2: 2n\n",
      "fails rule 3\n",
      "****\n",
      "prefix CTVn\n",
      "After Rule 1: n\n",
      "prefixno digits: n\n",
      "After rule 2: \n",
      "suffix _6000\n",
      "After rule 6:  \n",
      "After rule 7:  \n",
      "ALL GOODDDDDD\n",
      "****\n",
      "prefix CTVn\n",
      "After Rule 1: n\n",
      "prefixno digits: n\n",
      "After rule 2: \n",
      "****\n",
      "prefix opt\n",
      "fails rule 1\n",
      "****\n",
      "prefix PTV^Physician1\n",
      "After Rule 1: ^Physician1\n",
      "its true, all after ^\n",
      "****\n",
      "prefix GTV\n",
      "After Rule 1: \n",
      "suffix _2000^ICG\n",
      "After rule 6:  ^ICG\n",
      "After rule 7:  ^ICG\n",
      "ALL GOODDDDDD\n",
      "****\n",
      "prefix PTV1\n",
      "After Rule 1: 1\n",
      "prefixno digits: \n",
      "After rule 2: 1\n",
      "****\n",
      "prefix GTVp1\n",
      "After Rule 1: p1\n",
      "prefixno digits: p\n",
      "After rule 2: 1\n",
      "****\n",
      "prefix GTVp2\n",
      "After Rule 1: p2\n",
      "prefixno digits: p\n",
      "After rule 2: 2\n",
      "****\n",
      "prefix PTVn\n",
      "After Rule 1: n\n",
      "prefixno digits: n\n",
      "After rule 2: \n",
      "****\n",
      "prefix PTVsb\n",
      "After Rule 1: sb\n",
      "prefixno digits: sb\n",
      "After rule 2: \n"
     ]
    }
   ],
   "source": [
    "for name in list_names:\n",
    "    check_target_compliance(name)"
   ]
  },
  {
   "cell_type": "code",
   "execution_count": 4,
   "id": "64dfbe90",
   "metadata": {},
   "outputs": [
    {
     "data": {
      "text/plain": [
       "['PTV']"
      ]
     },
     "execution_count": 4,
     "metadata": {},
     "output_type": "execute_result"
    }
   ],
   "source": [
    "name = \"PTV\"\n",
    "name.split(\"_\")"
   ]
  },
  {
   "cell_type": "code",
   "execution_count": 12,
   "id": "7db6accc",
   "metadata": {},
   "outputs": [],
   "source": [
    "prefix = name.split(\"_\")[0]"
   ]
  },
  {
   "cell_type": "code",
   "execution_count": 13,
   "id": "e084f662",
   "metadata": {},
   "outputs": [],
   "source": [
    "suffix = name.replace(prefix,'')"
   ]
  },
  {
   "cell_type": "code",
   "execution_count": 15,
   "id": "8c20ca00",
   "metadata": {},
   "outputs": [
    {
     "name": "stdout",
     "output_type": "stream",
     "text": [
      "prefix PTV\n",
      "suffix _5000\n"
     ]
    }
   ],
   "source": [
    "print(\"prefix\",prefix)\n",
    "print(\"suffix\",suffix)"
   ]
  },
  {
   "cell_type": "code",
   "execution_count": 67,
   "id": "ed853aef",
   "metadata": {},
   "outputs": [],
   "source": [
    "target_suffix = \"x20x50\"\n",
    "\n",
    "fraction_pattern = r'^x\\d{1,2}'\n",
    "if bool(re.match(fraction_pattern, target_suffix)):\n",
    "    fractions = True\n",
    "    target_suffix = re.sub(fraction_pattern, '', target_suffix)\n"
   ]
  },
  {
   "cell_type": "code",
   "execution_count": 68,
   "id": "e63e7bd0",
   "metadata": {},
   "outputs": [
    {
     "data": {
      "text/plain": [
       "'x50'"
      ]
     },
     "execution_count": 68,
     "metadata": {},
     "output_type": "execute_result"
    }
   ],
   "source": [
    "target_suffix"
   ]
  },
  {
   "cell_type": "code",
   "execution_count": null,
   "id": "6ccb1240",
   "metadata": {},
   "outputs": [],
   "source": []
  }
 ],
 "metadata": {
  "kernelspec": {
   "display_name": "Python 3 (ipykernel)",
   "language": "python",
   "name": "python3"
  },
  "language_info": {
   "codemirror_mode": {
    "name": "ipython",
    "version": 3
   },
   "file_extension": ".py",
   "mimetype": "text/x-python",
   "name": "python",
   "nbconvert_exporter": "python",
   "pygments_lexer": "ipython3",
   "version": "3.8.10"
  }
 },
 "nbformat": 4,
 "nbformat_minor": 5
}
